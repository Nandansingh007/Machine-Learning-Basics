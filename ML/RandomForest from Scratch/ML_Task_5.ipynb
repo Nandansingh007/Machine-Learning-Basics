{
  "nbformat": 4,
  "nbformat_minor": 0,
  "metadata": {
    "colab": {
      "provenance": []
    },
    "kernelspec": {
      "name": "python3",
      "display_name": "Python 3"
    },
    "language_info": {
      "name": "python"
    }
  },
  "cells": [
    {
      "cell_type": "code",
      "execution_count": 70,
      "metadata": {
        "id": "gbUGEcIOgvRt"
      },
      "outputs": [],
      "source": [
        "import pandas as pd\n",
        "import seaborn as sns\n",
        "from sklearn.preprocessing import MinMaxScaler\n",
        "import numpy as np"
      ]
    },
    {
      "cell_type": "markdown",
      "source": [
        "## Data Loading and Cleaning"
      ],
      "metadata": {
        "id": "Fw5PUbUGTcqx"
      }
    },
    {
      "cell_type": "code",
      "source": [
        "df = pd.read_csv('/content/train.csv')"
      ],
      "metadata": {
        "id": "winj_9cJg9wb"
      },
      "execution_count": 71,
      "outputs": []
    },
    {
      "cell_type": "code",
      "source": [
        "df_selected = df[['OverallCond','GrLivArea','GarageArea','TotalBsmtSF','YearBuilt','SalePrice','OverallQual']]"
      ],
      "metadata": {
        "id": "iBukRWuZhZO5"
      },
      "execution_count": 72,
      "outputs": []
    },
    {
      "cell_type": "code",
      "source": [
        "df_selected"
      ],
      "metadata": {
        "colab": {
          "base_uri": "https://localhost:8080/",
          "height": 423
        },
        "id": "2jpMoD6uhmMr",
        "outputId": "c23fbee0-120a-4262-8822-7e7212ac52d1"
      },
      "execution_count": 73,
      "outputs": [
        {
          "output_type": "execute_result",
          "data": {
            "text/plain": [
              "      OverallCond  GrLivArea  GarageArea  TotalBsmtSF  YearBuilt  SalePrice  \\\n",
              "0               5       1710         548          856       2003     208500   \n",
              "1               8       1262         460         1262       1976     181500   \n",
              "2               5       1786         608          920       2001     223500   \n",
              "3               5       1717         642          756       1915     140000   \n",
              "4               5       2198         836         1145       2000     250000   \n",
              "...           ...        ...         ...          ...        ...        ...   \n",
              "1455            5       1647         460          953       1999     175000   \n",
              "1456            6       2073         500         1542       1978     210000   \n",
              "1457            9       2340         252         1152       1941     266500   \n",
              "1458            6       1078         240         1078       1950     142125   \n",
              "1459            6       1256         276         1256       1965     147500   \n",
              "\n",
              "      OverallQual  \n",
              "0               7  \n",
              "1               6  \n",
              "2               7  \n",
              "3               7  \n",
              "4               8  \n",
              "...           ...  \n",
              "1455            6  \n",
              "1456            6  \n",
              "1457            7  \n",
              "1458            5  \n",
              "1459            5  \n",
              "\n",
              "[1460 rows x 7 columns]"
            ],
            "text/html": [
              "\n",
              "  <div id=\"df-6585c45f-a9e9-4090-994c-164951510e9d\">\n",
              "    <div class=\"colab-df-container\">\n",
              "      <div>\n",
              "<style scoped>\n",
              "    .dataframe tbody tr th:only-of-type {\n",
              "        vertical-align: middle;\n",
              "    }\n",
              "\n",
              "    .dataframe tbody tr th {\n",
              "        vertical-align: top;\n",
              "    }\n",
              "\n",
              "    .dataframe thead th {\n",
              "        text-align: right;\n",
              "    }\n",
              "</style>\n",
              "<table border=\"1\" class=\"dataframe\">\n",
              "  <thead>\n",
              "    <tr style=\"text-align: right;\">\n",
              "      <th></th>\n",
              "      <th>OverallCond</th>\n",
              "      <th>GrLivArea</th>\n",
              "      <th>GarageArea</th>\n",
              "      <th>TotalBsmtSF</th>\n",
              "      <th>YearBuilt</th>\n",
              "      <th>SalePrice</th>\n",
              "      <th>OverallQual</th>\n",
              "    </tr>\n",
              "  </thead>\n",
              "  <tbody>\n",
              "    <tr>\n",
              "      <th>0</th>\n",
              "      <td>5</td>\n",
              "      <td>1710</td>\n",
              "      <td>548</td>\n",
              "      <td>856</td>\n",
              "      <td>2003</td>\n",
              "      <td>208500</td>\n",
              "      <td>7</td>\n",
              "    </tr>\n",
              "    <tr>\n",
              "      <th>1</th>\n",
              "      <td>8</td>\n",
              "      <td>1262</td>\n",
              "      <td>460</td>\n",
              "      <td>1262</td>\n",
              "      <td>1976</td>\n",
              "      <td>181500</td>\n",
              "      <td>6</td>\n",
              "    </tr>\n",
              "    <tr>\n",
              "      <th>2</th>\n",
              "      <td>5</td>\n",
              "      <td>1786</td>\n",
              "      <td>608</td>\n",
              "      <td>920</td>\n",
              "      <td>2001</td>\n",
              "      <td>223500</td>\n",
              "      <td>7</td>\n",
              "    </tr>\n",
              "    <tr>\n",
              "      <th>3</th>\n",
              "      <td>5</td>\n",
              "      <td>1717</td>\n",
              "      <td>642</td>\n",
              "      <td>756</td>\n",
              "      <td>1915</td>\n",
              "      <td>140000</td>\n",
              "      <td>7</td>\n",
              "    </tr>\n",
              "    <tr>\n",
              "      <th>4</th>\n",
              "      <td>5</td>\n",
              "      <td>2198</td>\n",
              "      <td>836</td>\n",
              "      <td>1145</td>\n",
              "      <td>2000</td>\n",
              "      <td>250000</td>\n",
              "      <td>8</td>\n",
              "    </tr>\n",
              "    <tr>\n",
              "      <th>...</th>\n",
              "      <td>...</td>\n",
              "      <td>...</td>\n",
              "      <td>...</td>\n",
              "      <td>...</td>\n",
              "      <td>...</td>\n",
              "      <td>...</td>\n",
              "      <td>...</td>\n",
              "    </tr>\n",
              "    <tr>\n",
              "      <th>1455</th>\n",
              "      <td>5</td>\n",
              "      <td>1647</td>\n",
              "      <td>460</td>\n",
              "      <td>953</td>\n",
              "      <td>1999</td>\n",
              "      <td>175000</td>\n",
              "      <td>6</td>\n",
              "    </tr>\n",
              "    <tr>\n",
              "      <th>1456</th>\n",
              "      <td>6</td>\n",
              "      <td>2073</td>\n",
              "      <td>500</td>\n",
              "      <td>1542</td>\n",
              "      <td>1978</td>\n",
              "      <td>210000</td>\n",
              "      <td>6</td>\n",
              "    </tr>\n",
              "    <tr>\n",
              "      <th>1457</th>\n",
              "      <td>9</td>\n",
              "      <td>2340</td>\n",
              "      <td>252</td>\n",
              "      <td>1152</td>\n",
              "      <td>1941</td>\n",
              "      <td>266500</td>\n",
              "      <td>7</td>\n",
              "    </tr>\n",
              "    <tr>\n",
              "      <th>1458</th>\n",
              "      <td>6</td>\n",
              "      <td>1078</td>\n",
              "      <td>240</td>\n",
              "      <td>1078</td>\n",
              "      <td>1950</td>\n",
              "      <td>142125</td>\n",
              "      <td>5</td>\n",
              "    </tr>\n",
              "    <tr>\n",
              "      <th>1459</th>\n",
              "      <td>6</td>\n",
              "      <td>1256</td>\n",
              "      <td>276</td>\n",
              "      <td>1256</td>\n",
              "      <td>1965</td>\n",
              "      <td>147500</td>\n",
              "      <td>5</td>\n",
              "    </tr>\n",
              "  </tbody>\n",
              "</table>\n",
              "<p>1460 rows × 7 columns</p>\n",
              "</div>\n",
              "      <button class=\"colab-df-convert\" onclick=\"convertToInteractive('df-6585c45f-a9e9-4090-994c-164951510e9d')\"\n",
              "              title=\"Convert this dataframe to an interactive table.\"\n",
              "              style=\"display:none;\">\n",
              "        \n",
              "  <svg xmlns=\"http://www.w3.org/2000/svg\" height=\"24px\"viewBox=\"0 0 24 24\"\n",
              "       width=\"24px\">\n",
              "    <path d=\"M0 0h24v24H0V0z\" fill=\"none\"/>\n",
              "    <path d=\"M18.56 5.44l.94 2.06.94-2.06 2.06-.94-2.06-.94-.94-2.06-.94 2.06-2.06.94zm-11 1L8.5 8.5l.94-2.06 2.06-.94-2.06-.94L8.5 2.5l-.94 2.06-2.06.94zm10 10l.94 2.06.94-2.06 2.06-.94-2.06-.94-.94-2.06-.94 2.06-2.06.94z\"/><path d=\"M17.41 7.96l-1.37-1.37c-.4-.4-.92-.59-1.43-.59-.52 0-1.04.2-1.43.59L10.3 9.45l-7.72 7.72c-.78.78-.78 2.05 0 2.83L4 21.41c.39.39.9.59 1.41.59.51 0 1.02-.2 1.41-.59l7.78-7.78 2.81-2.81c.8-.78.8-2.07 0-2.86zM5.41 20L4 18.59l7.72-7.72 1.47 1.35L5.41 20z\"/>\n",
              "  </svg>\n",
              "      </button>\n",
              "      \n",
              "  <style>\n",
              "    .colab-df-container {\n",
              "      display:flex;\n",
              "      flex-wrap:wrap;\n",
              "      gap: 12px;\n",
              "    }\n",
              "\n",
              "    .colab-df-convert {\n",
              "      background-color: #E8F0FE;\n",
              "      border: none;\n",
              "      border-radius: 50%;\n",
              "      cursor: pointer;\n",
              "      display: none;\n",
              "      fill: #1967D2;\n",
              "      height: 32px;\n",
              "      padding: 0 0 0 0;\n",
              "      width: 32px;\n",
              "    }\n",
              "\n",
              "    .colab-df-convert:hover {\n",
              "      background-color: #E2EBFA;\n",
              "      box-shadow: 0px 1px 2px rgba(60, 64, 67, 0.3), 0px 1px 3px 1px rgba(60, 64, 67, 0.15);\n",
              "      fill: #174EA6;\n",
              "    }\n",
              "\n",
              "    [theme=dark] .colab-df-convert {\n",
              "      background-color: #3B4455;\n",
              "      fill: #D2E3FC;\n",
              "    }\n",
              "\n",
              "    [theme=dark] .colab-df-convert:hover {\n",
              "      background-color: #434B5C;\n",
              "      box-shadow: 0px 1px 3px 1px rgba(0, 0, 0, 0.15);\n",
              "      filter: drop-shadow(0px 1px 2px rgba(0, 0, 0, 0.3));\n",
              "      fill: #FFFFFF;\n",
              "    }\n",
              "  </style>\n",
              "\n",
              "      <script>\n",
              "        const buttonEl =\n",
              "          document.querySelector('#df-6585c45f-a9e9-4090-994c-164951510e9d button.colab-df-convert');\n",
              "        buttonEl.style.display =\n",
              "          google.colab.kernel.accessAllowed ? 'block' : 'none';\n",
              "\n",
              "        async function convertToInteractive(key) {\n",
              "          const element = document.querySelector('#df-6585c45f-a9e9-4090-994c-164951510e9d');\n",
              "          const dataTable =\n",
              "            await google.colab.kernel.invokeFunction('convertToInteractive',\n",
              "                                                     [key], {});\n",
              "          if (!dataTable) return;\n",
              "\n",
              "          const docLinkHtml = 'Like what you see? Visit the ' +\n",
              "            '<a target=\"_blank\" href=https://colab.research.google.com/notebooks/data_table.ipynb>data table notebook</a>'\n",
              "            + ' to learn more about interactive tables.';\n",
              "          element.innerHTML = '';\n",
              "          dataTable['output_type'] = 'display_data';\n",
              "          await google.colab.output.renderOutput(dataTable, element);\n",
              "          const docLink = document.createElement('div');\n",
              "          docLink.innerHTML = docLinkHtml;\n",
              "          element.appendChild(docLink);\n",
              "        }\n",
              "      </script>\n",
              "    </div>\n",
              "  </div>\n",
              "  "
            ]
          },
          "metadata": {},
          "execution_count": 73
        }
      ]
    },
    {
      "cell_type": "code",
      "source": [
        "df1 = df_selected"
      ],
      "metadata": {
        "id": "v8BOD4CoT2nV"
      },
      "execution_count": 74,
      "outputs": []
    },
    {
      "cell_type": "code",
      "source": [
        "df1"
      ],
      "metadata": {
        "colab": {
          "base_uri": "https://localhost:8080/",
          "height": 423
        },
        "id": "1ZPDJn9IT59y",
        "outputId": "7d88d2b0-f4ef-4513-cdab-885f35bc75a2"
      },
      "execution_count": 75,
      "outputs": [
        {
          "output_type": "execute_result",
          "data": {
            "text/plain": [
              "      OverallCond  GrLivArea  GarageArea  TotalBsmtSF  YearBuilt  SalePrice  \\\n",
              "0               5       1710         548          856       2003     208500   \n",
              "1               8       1262         460         1262       1976     181500   \n",
              "2               5       1786         608          920       2001     223500   \n",
              "3               5       1717         642          756       1915     140000   \n",
              "4               5       2198         836         1145       2000     250000   \n",
              "...           ...        ...         ...          ...        ...        ...   \n",
              "1455            5       1647         460          953       1999     175000   \n",
              "1456            6       2073         500         1542       1978     210000   \n",
              "1457            9       2340         252         1152       1941     266500   \n",
              "1458            6       1078         240         1078       1950     142125   \n",
              "1459            6       1256         276         1256       1965     147500   \n",
              "\n",
              "      OverallQual  \n",
              "0               7  \n",
              "1               6  \n",
              "2               7  \n",
              "3               7  \n",
              "4               8  \n",
              "...           ...  \n",
              "1455            6  \n",
              "1456            6  \n",
              "1457            7  \n",
              "1458            5  \n",
              "1459            5  \n",
              "\n",
              "[1460 rows x 7 columns]"
            ],
            "text/html": [
              "\n",
              "  <div id=\"df-8dce4bb9-e655-4f21-a5ba-3731aeb8fec1\">\n",
              "    <div class=\"colab-df-container\">\n",
              "      <div>\n",
              "<style scoped>\n",
              "    .dataframe tbody tr th:only-of-type {\n",
              "        vertical-align: middle;\n",
              "    }\n",
              "\n",
              "    .dataframe tbody tr th {\n",
              "        vertical-align: top;\n",
              "    }\n",
              "\n",
              "    .dataframe thead th {\n",
              "        text-align: right;\n",
              "    }\n",
              "</style>\n",
              "<table border=\"1\" class=\"dataframe\">\n",
              "  <thead>\n",
              "    <tr style=\"text-align: right;\">\n",
              "      <th></th>\n",
              "      <th>OverallCond</th>\n",
              "      <th>GrLivArea</th>\n",
              "      <th>GarageArea</th>\n",
              "      <th>TotalBsmtSF</th>\n",
              "      <th>YearBuilt</th>\n",
              "      <th>SalePrice</th>\n",
              "      <th>OverallQual</th>\n",
              "    </tr>\n",
              "  </thead>\n",
              "  <tbody>\n",
              "    <tr>\n",
              "      <th>0</th>\n",
              "      <td>5</td>\n",
              "      <td>1710</td>\n",
              "      <td>548</td>\n",
              "      <td>856</td>\n",
              "      <td>2003</td>\n",
              "      <td>208500</td>\n",
              "      <td>7</td>\n",
              "    </tr>\n",
              "    <tr>\n",
              "      <th>1</th>\n",
              "      <td>8</td>\n",
              "      <td>1262</td>\n",
              "      <td>460</td>\n",
              "      <td>1262</td>\n",
              "      <td>1976</td>\n",
              "      <td>181500</td>\n",
              "      <td>6</td>\n",
              "    </tr>\n",
              "    <tr>\n",
              "      <th>2</th>\n",
              "      <td>5</td>\n",
              "      <td>1786</td>\n",
              "      <td>608</td>\n",
              "      <td>920</td>\n",
              "      <td>2001</td>\n",
              "      <td>223500</td>\n",
              "      <td>7</td>\n",
              "    </tr>\n",
              "    <tr>\n",
              "      <th>3</th>\n",
              "      <td>5</td>\n",
              "      <td>1717</td>\n",
              "      <td>642</td>\n",
              "      <td>756</td>\n",
              "      <td>1915</td>\n",
              "      <td>140000</td>\n",
              "      <td>7</td>\n",
              "    </tr>\n",
              "    <tr>\n",
              "      <th>4</th>\n",
              "      <td>5</td>\n",
              "      <td>2198</td>\n",
              "      <td>836</td>\n",
              "      <td>1145</td>\n",
              "      <td>2000</td>\n",
              "      <td>250000</td>\n",
              "      <td>8</td>\n",
              "    </tr>\n",
              "    <tr>\n",
              "      <th>...</th>\n",
              "      <td>...</td>\n",
              "      <td>...</td>\n",
              "      <td>...</td>\n",
              "      <td>...</td>\n",
              "      <td>...</td>\n",
              "      <td>...</td>\n",
              "      <td>...</td>\n",
              "    </tr>\n",
              "    <tr>\n",
              "      <th>1455</th>\n",
              "      <td>5</td>\n",
              "      <td>1647</td>\n",
              "      <td>460</td>\n",
              "      <td>953</td>\n",
              "      <td>1999</td>\n",
              "      <td>175000</td>\n",
              "      <td>6</td>\n",
              "    </tr>\n",
              "    <tr>\n",
              "      <th>1456</th>\n",
              "      <td>6</td>\n",
              "      <td>2073</td>\n",
              "      <td>500</td>\n",
              "      <td>1542</td>\n",
              "      <td>1978</td>\n",
              "      <td>210000</td>\n",
              "      <td>6</td>\n",
              "    </tr>\n",
              "    <tr>\n",
              "      <th>1457</th>\n",
              "      <td>9</td>\n",
              "      <td>2340</td>\n",
              "      <td>252</td>\n",
              "      <td>1152</td>\n",
              "      <td>1941</td>\n",
              "      <td>266500</td>\n",
              "      <td>7</td>\n",
              "    </tr>\n",
              "    <tr>\n",
              "      <th>1458</th>\n",
              "      <td>6</td>\n",
              "      <td>1078</td>\n",
              "      <td>240</td>\n",
              "      <td>1078</td>\n",
              "      <td>1950</td>\n",
              "      <td>142125</td>\n",
              "      <td>5</td>\n",
              "    </tr>\n",
              "    <tr>\n",
              "      <th>1459</th>\n",
              "      <td>6</td>\n",
              "      <td>1256</td>\n",
              "      <td>276</td>\n",
              "      <td>1256</td>\n",
              "      <td>1965</td>\n",
              "      <td>147500</td>\n",
              "      <td>5</td>\n",
              "    </tr>\n",
              "  </tbody>\n",
              "</table>\n",
              "<p>1460 rows × 7 columns</p>\n",
              "</div>\n",
              "      <button class=\"colab-df-convert\" onclick=\"convertToInteractive('df-8dce4bb9-e655-4f21-a5ba-3731aeb8fec1')\"\n",
              "              title=\"Convert this dataframe to an interactive table.\"\n",
              "              style=\"display:none;\">\n",
              "        \n",
              "  <svg xmlns=\"http://www.w3.org/2000/svg\" height=\"24px\"viewBox=\"0 0 24 24\"\n",
              "       width=\"24px\">\n",
              "    <path d=\"M0 0h24v24H0V0z\" fill=\"none\"/>\n",
              "    <path d=\"M18.56 5.44l.94 2.06.94-2.06 2.06-.94-2.06-.94-.94-2.06-.94 2.06-2.06.94zm-11 1L8.5 8.5l.94-2.06 2.06-.94-2.06-.94L8.5 2.5l-.94 2.06-2.06.94zm10 10l.94 2.06.94-2.06 2.06-.94-2.06-.94-.94-2.06-.94 2.06-2.06.94z\"/><path d=\"M17.41 7.96l-1.37-1.37c-.4-.4-.92-.59-1.43-.59-.52 0-1.04.2-1.43.59L10.3 9.45l-7.72 7.72c-.78.78-.78 2.05 0 2.83L4 21.41c.39.39.9.59 1.41.59.51 0 1.02-.2 1.41-.59l7.78-7.78 2.81-2.81c.8-.78.8-2.07 0-2.86zM5.41 20L4 18.59l7.72-7.72 1.47 1.35L5.41 20z\"/>\n",
              "  </svg>\n",
              "      </button>\n",
              "      \n",
              "  <style>\n",
              "    .colab-df-container {\n",
              "      display:flex;\n",
              "      flex-wrap:wrap;\n",
              "      gap: 12px;\n",
              "    }\n",
              "\n",
              "    .colab-df-convert {\n",
              "      background-color: #E8F0FE;\n",
              "      border: none;\n",
              "      border-radius: 50%;\n",
              "      cursor: pointer;\n",
              "      display: none;\n",
              "      fill: #1967D2;\n",
              "      height: 32px;\n",
              "      padding: 0 0 0 0;\n",
              "      width: 32px;\n",
              "    }\n",
              "\n",
              "    .colab-df-convert:hover {\n",
              "      background-color: #E2EBFA;\n",
              "      box-shadow: 0px 1px 2px rgba(60, 64, 67, 0.3), 0px 1px 3px 1px rgba(60, 64, 67, 0.15);\n",
              "      fill: #174EA6;\n",
              "    }\n",
              "\n",
              "    [theme=dark] .colab-df-convert {\n",
              "      background-color: #3B4455;\n",
              "      fill: #D2E3FC;\n",
              "    }\n",
              "\n",
              "    [theme=dark] .colab-df-convert:hover {\n",
              "      background-color: #434B5C;\n",
              "      box-shadow: 0px 1px 3px 1px rgba(0, 0, 0, 0.15);\n",
              "      filter: drop-shadow(0px 1px 2px rgba(0, 0, 0, 0.3));\n",
              "      fill: #FFFFFF;\n",
              "    }\n",
              "  </style>\n",
              "\n",
              "      <script>\n",
              "        const buttonEl =\n",
              "          document.querySelector('#df-8dce4bb9-e655-4f21-a5ba-3731aeb8fec1 button.colab-df-convert');\n",
              "        buttonEl.style.display =\n",
              "          google.colab.kernel.accessAllowed ? 'block' : 'none';\n",
              "\n",
              "        async function convertToInteractive(key) {\n",
              "          const element = document.querySelector('#df-8dce4bb9-e655-4f21-a5ba-3731aeb8fec1');\n",
              "          const dataTable =\n",
              "            await google.colab.kernel.invokeFunction('convertToInteractive',\n",
              "                                                     [key], {});\n",
              "          if (!dataTable) return;\n",
              "\n",
              "          const docLinkHtml = 'Like what you see? Visit the ' +\n",
              "            '<a target=\"_blank\" href=https://colab.research.google.com/notebooks/data_table.ipynb>data table notebook</a>'\n",
              "            + ' to learn more about interactive tables.';\n",
              "          element.innerHTML = '';\n",
              "          dataTable['output_type'] = 'display_data';\n",
              "          await google.colab.output.renderOutput(dataTable, element);\n",
              "          const docLink = document.createElement('div');\n",
              "          docLink.innerHTML = docLinkHtml;\n",
              "          element.appendChild(docLink);\n",
              "        }\n",
              "      </script>\n",
              "    </div>\n",
              "  </div>\n",
              "  "
            ]
          },
          "metadata": {},
          "execution_count": 75
        }
      ]
    },
    {
      "cell_type": "code",
      "source": [
        "# Define the mapping function\n",
        "#mapping the OverallQual in 0 and 1\n",
        "# 1 = Very Good Condition\n",
        "# 0 = Not Good Condition\n",
        "def map_values(value):\n",
        "    if value in [1, 2, 3, 4, 5]:\n",
        "        return 0\n",
        "    elif value in [6, 7, 8, 9,10]:\n",
        "        return 1\n",
        "    else:\n",
        "        return None  # or specify a default value for other cases\n",
        "\n",
        "# Apply the mapping function to the column\n",
        "df_selected['OverallQual'] = df_selected['OverallQual'].apply(map_values)"
      ],
      "metadata": {
        "colab": {
          "base_uri": "https://localhost:8080/"
        },
        "id": "pw4Q5aqERBq9",
        "outputId": "2ae32523-9885-4476-e662-4ea2bcc3712f"
      },
      "execution_count": 76,
      "outputs": [
        {
          "output_type": "stream",
          "name": "stderr",
          "text": [
            "<ipython-input-76-5d1fde7efe98>:14: SettingWithCopyWarning: \n",
            "A value is trying to be set on a copy of a slice from a DataFrame.\n",
            "Try using .loc[row_indexer,col_indexer] = value instead\n",
            "\n",
            "See the caveats in the documentation: https://pandas.pydata.org/pandas-docs/stable/user_guide/indexing.html#returning-a-view-versus-a-copy\n",
            "  df_selected['OverallQual'] = df_selected['OverallQual'].apply(map_values)\n"
          ]
        }
      ]
    },
    {
      "cell_type": "code",
      "source": [
        "df_selected['OverallQual'].value_counts()"
      ],
      "metadata": {
        "colab": {
          "base_uri": "https://localhost:8080/"
        },
        "id": "c94lwQl8R2nU",
        "outputId": "0289bbdf-1b38-4e1f-dbeb-ad5f7193b34b"
      },
      "execution_count": 77,
      "outputs": [
        {
          "output_type": "execute_result",
          "data": {
            "text/plain": [
              "1    922\n",
              "0    538\n",
              "Name: OverallQual, dtype: int64"
            ]
          },
          "metadata": {},
          "execution_count": 77
        }
      ]
    },
    {
      "cell_type": "markdown",
      "source": [
        "## RandomForestClassfier Using DecisionTreeClassifier"
      ],
      "metadata": {
        "id": "5Gr7NEbJThHj"
      }
    },
    {
      "cell_type": "code",
      "source": [
        "import numpy as np\n",
        "from sklearn.tree import DecisionTreeClassifier\n",
        "from sklearn.model_selection import train_test_split\n",
        "from sklearn.metrics import accuracy_score,classification_report\n",
        "import pandas as pd"
      ],
      "metadata": {
        "id": "ouO9OmtN1a1A"
      },
      "execution_count": 78,
      "outputs": []
    },
    {
      "cell_type": "code",
      "source": [
        "#RandomForestClassifier Using the Decision tree classifier\n",
        "class RandomForestClassifier:\n",
        "    def __init__(self, n_estimators=100, max_depth=None, random_state=None):\n",
        "        self.n_estimators = n_estimators\n",
        "        self.max_depth = max_depth\n",
        "        self.random_state = random_state\n",
        "        self.estimators = []\n",
        "\n",
        "    def fit(self, X, y):\n",
        "        np.random.seed(self.random_state)\n",
        "        for _ in range(self.n_estimators):\n",
        "            # Bootstrap sample\n",
        "            indices = np.random.choice(len(X), len(X), replace=True)\n",
        "            X_bootstrap = X[indices]\n",
        "            y_bootstrap = y[indices]\n",
        "\n",
        "            # Create a decision tree and fit it on the bootstrap sample\n",
        "            tree = DecisionTreeClassifier(max_depth=self.max_depth)\n",
        "            tree.fit(X_bootstrap, y_bootstrap)\n",
        "\n",
        "            # Add the trained tree to the list of estimators\n",
        "            self.estimators.append(tree)\n",
        "\n",
        "    def predict(self, X):\n",
        "        predictions = np.zeros((X.shape[0], self.n_estimators))\n",
        "        for i, tree in enumerate(self.estimators):\n",
        "            predictions[:, i] = tree.predict(X)\n",
        "\n",
        "        # Voting to determine the final prediction\n",
        "        return np.apply_along_axis(lambda x: np.argmax(np.bincount(x.astype(int))), axis=1, arr=predictions)\n"
      ],
      "metadata": {
        "id": "w6UiY9Rz9MSY"
      },
      "execution_count": 79,
      "outputs": []
    },
    {
      "cell_type": "code",
      "source": [
        "# Split the data into training and test sets\n",
        "X = df1[['GrLivArea', 'GarageArea', 'TotalBsmtSF','SalePrice','YearBuilt']]\n",
        "y = df1['OverallQual']\n",
        "\n",
        "X_train, X_test, y_train, y_test = train_test_split(X, y, test_size=0.2, random_state=42)"
      ],
      "metadata": {
        "id": "oPU6TF799jz5"
      },
      "execution_count": 80,
      "outputs": []
    },
    {
      "cell_type": "code",
      "source": [
        "#changing the dataframe to the numpy arrays\n",
        "X_train = X_train.values\n",
        "y_train = y_train.values\n",
        "X_test = X_test.values"
      ],
      "metadata": {
        "id": "1Da3zFo0_ysY"
      },
      "execution_count": 81,
      "outputs": []
    },
    {
      "cell_type": "code",
      "source": [
        "# Create an instance of RandomForestClassifier\n",
        "rf_classifier = RandomForestClassifier(n_estimators=100, max_depth=None, random_state=42)\n",
        "\n",
        "# Fit the classifier on the training data\n",
        "rf_classifier.fit(X_train, y_train)\n",
        "\n",
        "# Assuming you have X_test as your test data\n",
        "predictions = rf_classifier.predict(X_test)\n"
      ],
      "metadata": {
        "id": "2SHkkMSi9mYc"
      },
      "execution_count": 82,
      "outputs": []
    },
    {
      "cell_type": "code",
      "source": [
        "predictions"
      ],
      "metadata": {
        "colab": {
          "base_uri": "https://localhost:8080/"
        },
        "id": "1a26mx_n-63r",
        "outputId": "98ea5527-4a5c-4806-f875-d26d0eafaa50"
      },
      "execution_count": 83,
      "outputs": [
        {
          "output_type": "execute_result",
          "data": {
            "text/plain": [
              "array([0, 1, 1, 1, 1, 0, 1, 1, 0, 0, 1, 0, 0, 1, 1, 0, 1, 0, 0, 1, 1, 1,\n",
              "       1, 0, 1, 1, 1, 0, 1, 1, 0, 1, 1, 0, 1, 0, 1, 1, 1, 0, 0, 1, 0, 1,\n",
              "       0, 0, 0, 0, 1, 1, 0, 1, 0, 1, 1, 1, 1, 0, 1, 0, 0, 1, 1, 1, 1, 1,\n",
              "       0, 1, 0, 1, 0, 0, 0, 0, 1, 1, 1, 1, 0, 0, 1, 0, 0, 0, 1, 1, 1, 1,\n",
              "       1, 1, 0, 1, 0, 1, 0, 1, 1, 1, 1, 1, 1, 1, 1, 1, 1, 1, 1, 1, 0, 0,\n",
              "       0, 0, 0, 1, 1, 0, 0, 0, 0, 1, 1, 1, 1, 1, 1, 0, 1, 0, 0, 1, 1, 1,\n",
              "       1, 0, 0, 1, 1, 0, 1, 1, 1, 0, 1, 0, 0, 0, 1, 1, 0, 0, 1, 1, 1, 1,\n",
              "       0, 1, 0, 1, 0, 0, 1, 1, 1, 1, 0, 0, 1, 1, 1, 1, 1, 0, 0, 1, 1, 0,\n",
              "       0, 1, 0, 1, 1, 0, 0, 0, 1, 1, 1, 1, 1, 0, 0, 0, 1, 0, 1, 1, 1, 0,\n",
              "       1, 1, 1, 1, 1, 1, 1, 0, 1, 0, 1, 0, 1, 1, 0, 1, 1, 1, 1, 0, 0, 0,\n",
              "       0, 1, 1, 0, 1, 0, 0, 0, 1, 0, 0, 1, 0, 0, 1, 1, 1, 0, 1, 0, 0, 1,\n",
              "       1, 1, 1, 0, 0, 1, 1, 0, 1, 1, 1, 0, 1, 1, 0, 1, 1, 1, 1, 1, 0, 1,\n",
              "       1, 1, 1, 1, 0, 1, 1, 1, 1, 1, 0, 1, 1, 1, 0, 1, 1, 0, 1, 0, 1, 0,\n",
              "       1, 0, 1, 1, 0, 0])"
            ]
          },
          "metadata": {},
          "execution_count": 83
        }
      ]
    },
    {
      "cell_type": "code",
      "source": [
        " print(\"Classification Report: \\n\", classification_report(y_test, predictions))"
      ],
      "metadata": {
        "colab": {
          "base_uri": "https://localhost:8080/"
        },
        "id": "tPcc4eTNSzUA",
        "outputId": "8275d684-93d8-4050-f522-1de9d3b93a0b"
      },
      "execution_count": 84,
      "outputs": [
        {
          "output_type": "stream",
          "name": "stdout",
          "text": [
            "Classification Report: \n",
            "               precision    recall  f1-score   support\n",
            "\n",
            "           0       0.83      0.77      0.80       123\n",
            "           1       0.84      0.89      0.86       169\n",
            "\n",
            "    accuracy                           0.84       292\n",
            "   macro avg       0.84      0.83      0.83       292\n",
            "weighted avg       0.84      0.84      0.84       292\n",
            "\n"
          ]
        }
      ]
    },
    {
      "cell_type": "markdown",
      "source": [
        "## RandomForestRegression Using DecisionTreeRegressor"
      ],
      "metadata": {
        "id": "ykG54rFtToxQ"
      }
    },
    {
      "cell_type": "markdown",
      "source": [
        "### Normalization"
      ],
      "metadata": {
        "id": "t-8aq44ZWSqA"
      }
    },
    {
      "cell_type": "code",
      "source": [
        "from sklearn.tree import DecisionTreeRegressor\n",
        "from sklearn.metrics import mean_squared_error, mean_absolute_error, r2_score\n",
        "import numpy as np\n",
        "from sklearn.preprocessing import MinMaxScaler\n",
        "\n",
        "\n"
      ],
      "metadata": {
        "id": "Y2l-o4_2E4AI"
      },
      "execution_count": 85,
      "outputs": []
    },
    {
      "cell_type": "code",
      "source": [
        "# Assuming your DataFrame is called 'df' and you have columns for normalization\n",
        "columns_to_normalize = ['OverallCond','GrLivArea','GarageArea','TotalBsmtSF','YearBuilt','SalePrice','OverallQual']\n",
        "\n",
        "# Create a new DataFrame with only the columns to be normalized\n",
        "data_to_normalize = df1[columns_to_normalize]\n",
        "\n",
        "# Apply normalization\n",
        "scaler = MinMaxScaler()\n",
        "normalized_data = scaler.fit_transform(data_to_normalize)\n",
        "\n",
        "# Update the original DataFrame with the normalized values\n",
        "df1[columns_to_normalize] = normalized_data"
      ],
      "metadata": {
        "colab": {
          "base_uri": "https://localhost:8080/"
        },
        "id": "V9yco48GWRsa",
        "outputId": "ce66e0c2-3c14-4d96-b544-a20132291e92"
      },
      "execution_count": 86,
      "outputs": [
        {
          "output_type": "stream",
          "name": "stderr",
          "text": [
            "<ipython-input-86-a901056b865d>:12: SettingWithCopyWarning: \n",
            "A value is trying to be set on a copy of a slice from a DataFrame.\n",
            "Try using .loc[row_indexer,col_indexer] = value instead\n",
            "\n",
            "See the caveats in the documentation: https://pandas.pydata.org/pandas-docs/stable/user_guide/indexing.html#returning-a-view-versus-a-copy\n",
            "  df1[columns_to_normalize] = normalized_data\n"
          ]
        }
      ]
    },
    {
      "cell_type": "code",
      "source": [
        "df1"
      ],
      "metadata": {
        "colab": {
          "base_uri": "https://localhost:8080/",
          "height": 423
        },
        "id": "pQOSS5SHWqvk",
        "outputId": "7ed56443-8f47-4ed1-824b-e269c7106d66"
      },
      "execution_count": 87,
      "outputs": [
        {
          "output_type": "execute_result",
          "data": {
            "text/plain": [
              "      OverallCond  GrLivArea  GarageArea  TotalBsmtSF  YearBuilt  SalePrice  \\\n",
              "0           0.500   0.259231    0.386460     0.140098   0.949275   0.241078   \n",
              "1           0.875   0.174830    0.324401     0.206547   0.753623   0.203583   \n",
              "2           0.500   0.273549    0.428773     0.150573   0.934783   0.261908   \n",
              "3           0.500   0.260550    0.452750     0.123732   0.311594   0.145952   \n",
              "4           0.500   0.351168    0.589563     0.187398   0.927536   0.298709   \n",
              "...           ...        ...         ...          ...        ...        ...   \n",
              "1455        0.500   0.247362    0.324401     0.155974   0.920290   0.194556   \n",
              "1456        0.625   0.327619    0.352609     0.252373   0.768116   0.243161   \n",
              "1457        1.000   0.377920    0.177715     0.188543   0.500000   0.321622   \n",
              "1458        0.625   0.140166    0.169252     0.176432   0.565217   0.148903   \n",
              "1459        0.625   0.173700    0.194640     0.205565   0.673913   0.156367   \n",
              "\n",
              "      OverallQual  \n",
              "0             1.0  \n",
              "1             1.0  \n",
              "2             1.0  \n",
              "3             1.0  \n",
              "4             1.0  \n",
              "...           ...  \n",
              "1455          1.0  \n",
              "1456          1.0  \n",
              "1457          1.0  \n",
              "1458          0.0  \n",
              "1459          0.0  \n",
              "\n",
              "[1460 rows x 7 columns]"
            ],
            "text/html": [
              "\n",
              "  <div id=\"df-9403909a-5683-4dce-89e8-f17d9f096fd7\">\n",
              "    <div class=\"colab-df-container\">\n",
              "      <div>\n",
              "<style scoped>\n",
              "    .dataframe tbody tr th:only-of-type {\n",
              "        vertical-align: middle;\n",
              "    }\n",
              "\n",
              "    .dataframe tbody tr th {\n",
              "        vertical-align: top;\n",
              "    }\n",
              "\n",
              "    .dataframe thead th {\n",
              "        text-align: right;\n",
              "    }\n",
              "</style>\n",
              "<table border=\"1\" class=\"dataframe\">\n",
              "  <thead>\n",
              "    <tr style=\"text-align: right;\">\n",
              "      <th></th>\n",
              "      <th>OverallCond</th>\n",
              "      <th>GrLivArea</th>\n",
              "      <th>GarageArea</th>\n",
              "      <th>TotalBsmtSF</th>\n",
              "      <th>YearBuilt</th>\n",
              "      <th>SalePrice</th>\n",
              "      <th>OverallQual</th>\n",
              "    </tr>\n",
              "  </thead>\n",
              "  <tbody>\n",
              "    <tr>\n",
              "      <th>0</th>\n",
              "      <td>0.500</td>\n",
              "      <td>0.259231</td>\n",
              "      <td>0.386460</td>\n",
              "      <td>0.140098</td>\n",
              "      <td>0.949275</td>\n",
              "      <td>0.241078</td>\n",
              "      <td>1.0</td>\n",
              "    </tr>\n",
              "    <tr>\n",
              "      <th>1</th>\n",
              "      <td>0.875</td>\n",
              "      <td>0.174830</td>\n",
              "      <td>0.324401</td>\n",
              "      <td>0.206547</td>\n",
              "      <td>0.753623</td>\n",
              "      <td>0.203583</td>\n",
              "      <td>1.0</td>\n",
              "    </tr>\n",
              "    <tr>\n",
              "      <th>2</th>\n",
              "      <td>0.500</td>\n",
              "      <td>0.273549</td>\n",
              "      <td>0.428773</td>\n",
              "      <td>0.150573</td>\n",
              "      <td>0.934783</td>\n",
              "      <td>0.261908</td>\n",
              "      <td>1.0</td>\n",
              "    </tr>\n",
              "    <tr>\n",
              "      <th>3</th>\n",
              "      <td>0.500</td>\n",
              "      <td>0.260550</td>\n",
              "      <td>0.452750</td>\n",
              "      <td>0.123732</td>\n",
              "      <td>0.311594</td>\n",
              "      <td>0.145952</td>\n",
              "      <td>1.0</td>\n",
              "    </tr>\n",
              "    <tr>\n",
              "      <th>4</th>\n",
              "      <td>0.500</td>\n",
              "      <td>0.351168</td>\n",
              "      <td>0.589563</td>\n",
              "      <td>0.187398</td>\n",
              "      <td>0.927536</td>\n",
              "      <td>0.298709</td>\n",
              "      <td>1.0</td>\n",
              "    </tr>\n",
              "    <tr>\n",
              "      <th>...</th>\n",
              "      <td>...</td>\n",
              "      <td>...</td>\n",
              "      <td>...</td>\n",
              "      <td>...</td>\n",
              "      <td>...</td>\n",
              "      <td>...</td>\n",
              "      <td>...</td>\n",
              "    </tr>\n",
              "    <tr>\n",
              "      <th>1455</th>\n",
              "      <td>0.500</td>\n",
              "      <td>0.247362</td>\n",
              "      <td>0.324401</td>\n",
              "      <td>0.155974</td>\n",
              "      <td>0.920290</td>\n",
              "      <td>0.194556</td>\n",
              "      <td>1.0</td>\n",
              "    </tr>\n",
              "    <tr>\n",
              "      <th>1456</th>\n",
              "      <td>0.625</td>\n",
              "      <td>0.327619</td>\n",
              "      <td>0.352609</td>\n",
              "      <td>0.252373</td>\n",
              "      <td>0.768116</td>\n",
              "      <td>0.243161</td>\n",
              "      <td>1.0</td>\n",
              "    </tr>\n",
              "    <tr>\n",
              "      <th>1457</th>\n",
              "      <td>1.000</td>\n",
              "      <td>0.377920</td>\n",
              "      <td>0.177715</td>\n",
              "      <td>0.188543</td>\n",
              "      <td>0.500000</td>\n",
              "      <td>0.321622</td>\n",
              "      <td>1.0</td>\n",
              "    </tr>\n",
              "    <tr>\n",
              "      <th>1458</th>\n",
              "      <td>0.625</td>\n",
              "      <td>0.140166</td>\n",
              "      <td>0.169252</td>\n",
              "      <td>0.176432</td>\n",
              "      <td>0.565217</td>\n",
              "      <td>0.148903</td>\n",
              "      <td>0.0</td>\n",
              "    </tr>\n",
              "    <tr>\n",
              "      <th>1459</th>\n",
              "      <td>0.625</td>\n",
              "      <td>0.173700</td>\n",
              "      <td>0.194640</td>\n",
              "      <td>0.205565</td>\n",
              "      <td>0.673913</td>\n",
              "      <td>0.156367</td>\n",
              "      <td>0.0</td>\n",
              "    </tr>\n",
              "  </tbody>\n",
              "</table>\n",
              "<p>1460 rows × 7 columns</p>\n",
              "</div>\n",
              "      <button class=\"colab-df-convert\" onclick=\"convertToInteractive('df-9403909a-5683-4dce-89e8-f17d9f096fd7')\"\n",
              "              title=\"Convert this dataframe to an interactive table.\"\n",
              "              style=\"display:none;\">\n",
              "        \n",
              "  <svg xmlns=\"http://www.w3.org/2000/svg\" height=\"24px\"viewBox=\"0 0 24 24\"\n",
              "       width=\"24px\">\n",
              "    <path d=\"M0 0h24v24H0V0z\" fill=\"none\"/>\n",
              "    <path d=\"M18.56 5.44l.94 2.06.94-2.06 2.06-.94-2.06-.94-.94-2.06-.94 2.06-2.06.94zm-11 1L8.5 8.5l.94-2.06 2.06-.94-2.06-.94L8.5 2.5l-.94 2.06-2.06.94zm10 10l.94 2.06.94-2.06 2.06-.94-2.06-.94-.94-2.06-.94 2.06-2.06.94z\"/><path d=\"M17.41 7.96l-1.37-1.37c-.4-.4-.92-.59-1.43-.59-.52 0-1.04.2-1.43.59L10.3 9.45l-7.72 7.72c-.78.78-.78 2.05 0 2.83L4 21.41c.39.39.9.59 1.41.59.51 0 1.02-.2 1.41-.59l7.78-7.78 2.81-2.81c.8-.78.8-2.07 0-2.86zM5.41 20L4 18.59l7.72-7.72 1.47 1.35L5.41 20z\"/>\n",
              "  </svg>\n",
              "      </button>\n",
              "      \n",
              "  <style>\n",
              "    .colab-df-container {\n",
              "      display:flex;\n",
              "      flex-wrap:wrap;\n",
              "      gap: 12px;\n",
              "    }\n",
              "\n",
              "    .colab-df-convert {\n",
              "      background-color: #E8F0FE;\n",
              "      border: none;\n",
              "      border-radius: 50%;\n",
              "      cursor: pointer;\n",
              "      display: none;\n",
              "      fill: #1967D2;\n",
              "      height: 32px;\n",
              "      padding: 0 0 0 0;\n",
              "      width: 32px;\n",
              "    }\n",
              "\n",
              "    .colab-df-convert:hover {\n",
              "      background-color: #E2EBFA;\n",
              "      box-shadow: 0px 1px 2px rgba(60, 64, 67, 0.3), 0px 1px 3px 1px rgba(60, 64, 67, 0.15);\n",
              "      fill: #174EA6;\n",
              "    }\n",
              "\n",
              "    [theme=dark] .colab-df-convert {\n",
              "      background-color: #3B4455;\n",
              "      fill: #D2E3FC;\n",
              "    }\n",
              "\n",
              "    [theme=dark] .colab-df-convert:hover {\n",
              "      background-color: #434B5C;\n",
              "      box-shadow: 0px 1px 3px 1px rgba(0, 0, 0, 0.15);\n",
              "      filter: drop-shadow(0px 1px 2px rgba(0, 0, 0, 0.3));\n",
              "      fill: #FFFFFF;\n",
              "    }\n",
              "  </style>\n",
              "\n",
              "      <script>\n",
              "        const buttonEl =\n",
              "          document.querySelector('#df-9403909a-5683-4dce-89e8-f17d9f096fd7 button.colab-df-convert');\n",
              "        buttonEl.style.display =\n",
              "          google.colab.kernel.accessAllowed ? 'block' : 'none';\n",
              "\n",
              "        async function convertToInteractive(key) {\n",
              "          const element = document.querySelector('#df-9403909a-5683-4dce-89e8-f17d9f096fd7');\n",
              "          const dataTable =\n",
              "            await google.colab.kernel.invokeFunction('convertToInteractive',\n",
              "                                                     [key], {});\n",
              "          if (!dataTable) return;\n",
              "\n",
              "          const docLinkHtml = 'Like what you see? Visit the ' +\n",
              "            '<a target=\"_blank\" href=https://colab.research.google.com/notebooks/data_table.ipynb>data table notebook</a>'\n",
              "            + ' to learn more about interactive tables.';\n",
              "          element.innerHTML = '';\n",
              "          dataTable['output_type'] = 'display_data';\n",
              "          await google.colab.output.renderOutput(dataTable, element);\n",
              "          const docLink = document.createElement('div');\n",
              "          docLink.innerHTML = docLinkHtml;\n",
              "          element.appendChild(docLink);\n",
              "        }\n",
              "      </script>\n",
              "    </div>\n",
              "  </div>\n",
              "  "
            ]
          },
          "metadata": {},
          "execution_count": 87
        }
      ]
    },
    {
      "cell_type": "markdown",
      "source": [
        "### Modeling"
      ],
      "metadata": {
        "id": "TQmyXXE4Ws-y"
      }
    },
    {
      "cell_type": "code",
      "source": [
        "class RandomForestRegressor:\n",
        "\n",
        "    def __init__(self, n_estimators=100, max_depth=None, random_state=None):\n",
        "        self.n_estimators = n_estimators\n",
        "        self.max_depth = max_depth\n",
        "        self.random_state = random_state\n",
        "        self.estimators = []\n",
        "\n",
        "    def fit(self, X, y):\n",
        "        np.random.seed(self.random_state)\n",
        "        for _ in range(self.n_estimators):\n",
        "\n",
        "            # Bootstrap sample\n",
        "            indices = np.random.choice(len(X), len(X), replace=True)\n",
        "            X_bootstrap = X[indices]\n",
        "            y_bootstrap = y[indices]\n",
        "\n",
        "            # Create a decision tree and fit it on the bootstrap sample\n",
        "            tree = DecisionTreeRegressor(max_depth=self.max_depth)\n",
        "            tree.fit(X_bootstrap, y_bootstrap)\n",
        "\n",
        "            # Add the trained tree to the list of estimators\n",
        "            self.estimators.append(tree)\n",
        "\n",
        "    def predict(self, X):\n",
        "        predictions = np.zeros((X.shape[0], self.n_estimators))\n",
        "        for i, tree in enumerate(self.estimators):\n",
        "            predictions[:, i] = tree.predict(X)\n",
        "\n",
        "        # Averaging the predictions to determine the final prediction\n",
        "        return np.mean(predictions, axis=1)\n"
      ],
      "metadata": {
        "id": "fSK6_GMQEyTd"
      },
      "execution_count": 88,
      "outputs": []
    },
    {
      "cell_type": "code",
      "source": [
        "# Split the data into training and test sets\n",
        "X = df1[['GrLivArea', 'GarageArea', 'TotalBsmtSF','OverallQual','YearBuilt']]\n",
        "y = df1['SalePrice']\n",
        "X_train, X_test, y_train, y_test = train_test_split(X, y, test_size=0.2, random_state=42)\n"
      ],
      "metadata": {
        "id": "t31foc-LUPob"
      },
      "execution_count": 89,
      "outputs": []
    },
    {
      "cell_type": "code",
      "source": [
        "#changing the dataframe to the numpy arrays\n",
        "X_train = X_train.values\n",
        "y_train = y_train.values\n",
        "X_test = X_test.values"
      ],
      "metadata": {
        "id": "OMl7jewQFRMG"
      },
      "execution_count": 90,
      "outputs": []
    },
    {
      "cell_type": "code",
      "source": [
        "# Create an instance of RandomForestRegressor\n",
        "rf_regressor = RandomForestRegressor(n_estimators=100, max_depth=None, random_state=42)\n",
        "\n",
        "# Fit the regressor on the training data\n",
        "rf_regressor.fit(X_train, y_train)"
      ],
      "metadata": {
        "id": "agjCHqnrFIuC"
      },
      "execution_count": 91,
      "outputs": []
    },
    {
      "cell_type": "code",
      "source": [
        "# performing predictions on the test dataset\n",
        "predictions = rf_regressor.predict(X_test)"
      ],
      "metadata": {
        "id": "mZKWLZBLUeYl"
      },
      "execution_count": 92,
      "outputs": []
    },
    {
      "cell_type": "code",
      "source": [
        "predictions"
      ],
      "metadata": {
        "colab": {
          "base_uri": "https://localhost:8080/"
        },
        "id": "28lGn3oyFgLt",
        "outputId": "499c5ef1-232e-4013-b164-c830c64bf335"
      },
      "execution_count": 93,
      "outputs": [
        {
          "output_type": "execute_result",
          "data": {
            "text/plain": [
              "array([0.1443185 , 0.42440701, 0.10465769, 0.18032773, 0.29493256,\n",
              "       0.06609429, 0.22450799, 0.15985974, 0.06588004, 0.11210735,\n",
              "       0.15487005, 0.11126946, 0.13048604, 0.26462977, 0.20230662,\n",
              "       0.12284926, 0.22045327, 0.13835544, 0.11525691, 0.22645258,\n",
              "       0.20275309, 0.25550187, 0.19610262, 0.11217539, 0.23606207,\n",
              "       0.19969393, 0.21543325, 0.09380171, 0.21014095, 0.2237123 ,\n",
              "       0.11855645, 0.32069628, 0.28284822, 0.11463547, 0.30848603,\n",
              "       0.15273504, 0.18976509, 0.24022441, 0.35293661, 0.09190251,\n",
              "       0.13542425, 0.26353784, 0.11296639, 0.4986782 , 0.14350229,\n",
              "       0.18722497, 0.12561172, 0.10838842, 0.51288568, 0.14503063,\n",
              "       0.11999514, 0.25544454, 0.13041808, 0.35421408, 0.15229834,\n",
              "       0.36412564, 0.21932465, 0.16049643, 0.16516873, 0.08104313,\n",
              "       0.06297736, 0.15164699, 0.41000239, 0.3098367 , 0.37701853,\n",
              "       0.28188585, 0.09935287, 0.40951832, 0.12400824, 0.19475135,\n",
              "       0.12678092, 0.13615956, 0.12533073, 0.08476184, 0.5908588 ,\n",
              "       0.20735853, 0.38755646, 0.35986696, 0.15043709, 0.12019002,\n",
              "       0.07761117, 0.11119011, 0.13368699, 0.07801879, 0.17037773,\n",
              "       0.15705002, 0.3150737 , 0.21558431, 0.15229834, 0.19326363,\n",
              "       0.16788085, 0.16214273, 0.12738092, 0.35011248, 0.16868611,\n",
              "       0.19993045, 0.19747188, 0.19688446, 0.29089471, 0.25834351,\n",
              "       0.20988495, 0.25256235, 0.34696681, 0.11308221, 0.1896931 ,\n",
              "       0.17845577, 0.15298431, 0.26539925, 0.16093296, 0.20533415,\n",
              "       0.05437995, 0.12168865, 0.1293126 , 0.1153362 , 0.27363995,\n",
              "       0.09182961, 0.11028468, 0.10556982, 0.20254449, 0.38440083,\n",
              "       0.13830794, 0.15229834, 0.20337685, 0.19608804, 0.20827774,\n",
              "       0.1148403 , 0.27966775, 0.09139425, 0.14893045, 0.2112242 ,\n",
              "       0.19525681, 0.46765698, 0.2409457 , 0.166433  , 0.06370921,\n",
              "       0.36673849, 0.35752072, 0.11760158, 0.30923004, 0.78089154,\n",
              "       0.43260424, 0.10988057, 0.19723754, 0.20755173, 0.13896195,\n",
              "       0.12574734, 0.23228302, 0.21699431, 0.12350182, 0.06429524,\n",
              "       0.11367882, 0.15812318, 0.34527427, 0.20917103, 0.11062318,\n",
              "       0.17258396, 0.15709207, 0.17668657, 0.04547355, 0.12374855,\n",
              "       0.22009938, 0.15577295, 0.32990868, 0.16728513, 0.1199139 ,\n",
              "       0.20635676, 0.27012727, 0.4636795 , 0.58370196, 0.25587377,\n",
              "       0.37883491, 0.10698838, 0.12147182, 0.18974074, 0.39832472,\n",
              "       0.15574215, 0.16460214, 0.25105083, 0.11522289, 0.19354731,\n",
              "       0.17277948, 0.09335301, 0.14649701, 0.13188682, 0.28869835,\n",
              "       0.18268782, 0.31080778, 0.22774069, 0.22753565, 0.07924733,\n",
              "       0.12458617, 0.11425219, 0.11168449, 0.14636092, 0.22331682,\n",
              "       0.18032682, 0.21550196, 0.11522583, 0.22888904, 0.09222064,\n",
              "       0.20675614, 0.19799451, 0.10686021, 0.43717225, 0.22773633,\n",
              "       0.11912651, 0.29368213, 0.15638592, 0.15539161, 0.10467938,\n",
              "       0.27472566, 0.16144982, 0.09900882, 0.1945502 , 0.16927371,\n",
              "       0.31474387, 0.22547957, 0.1480718 , 0.15874323, 0.15937016,\n",
              "       0.12666157, 0.23152136, 0.19614512, 0.09109152, 0.28731661,\n",
              "       0.1481454 , 0.10713373, 0.0948528 , 0.19699   , 0.11129288,\n",
              "       0.07702194, 0.20525885, 0.12737559, 0.1389991 , 0.24450923,\n",
              "       0.13893856, 0.22912741, 0.15761241, 0.26333773, 0.10879947,\n",
              "       0.07084988, 0.31783016, 0.22743605, 0.41936507, 0.21443376,\n",
              "       0.11110367, 0.16500625, 0.17191779, 0.15687293, 0.09389529,\n",
              "       0.1967531 , 0.18820437, 0.14313951, 0.06584919, 0.14070789,\n",
              "       0.14796556, 0.11498622, 0.11319261, 0.18906232, 0.28911526,\n",
              "       0.47242995, 0.16539246, 0.12408082, 0.24775128, 0.39404783,\n",
              "       0.28966806, 0.20523591, 0.14070918, 0.13655201, 0.18769906,\n",
              "       0.48539147, 0.21245895, 0.31908603, 0.12371426, 0.10137986,\n",
              "       0.15097014, 0.13923622, 0.34362744, 0.17565824, 0.15615545,\n",
              "       0.24675115, 0.06588004, 0.22150653, 0.08825302, 0.38314772,\n",
              "       0.19085127, 0.27330185, 0.14189002, 0.27059815, 0.19636384,\n",
              "       0.14927436, 0.11108178])"
            ]
          },
          "metadata": {},
          "execution_count": 93
        }
      ]
    },
    {
      "cell_type": "code",
      "source": [
        "# Calculate evaluation metrics\n",
        "mse = mean_squared_error(y_test, predictions)\n",
        "mae = mean_absolute_error(y_test, predictions)\n",
        "r2 = r2_score(y_test, predictions)\n",
        "\n",
        "\n",
        "# Print the evaluation metrics\n",
        "print(\"Mean Squared Error:\", mse)\n",
        "print(\"Mean Absolute Error:\", mae)\n",
        "print(\"R2 Score:\", r2)\n"
      ],
      "metadata": {
        "colab": {
          "base_uri": "https://localhost:8080/"
        },
        "id": "xQhtXCeOUknc",
        "outputId": "fef62683-4302-48f1-d3fb-929c7b96670d"
      },
      "execution_count": 96,
      "outputs": [
        {
          "output_type": "stream",
          "name": "stdout",
          "text": [
            "Mean Squared Error: 0.001978798851198477\n",
            "Mean Absolute Error: 0.029482252281497104\n",
            "R2 Score: 0.866225468960838\n"
          ]
        }
      ]
    },
    {
      "cell_type": "code",
      "source": [],
      "metadata": {
        "id": "SEPMRnn4GzYe"
      },
      "execution_count": null,
      "outputs": []
    }
  ]
}